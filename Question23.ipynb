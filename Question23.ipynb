{
 "cells": [
  {
   "cell_type": "markdown",
   "id": "f9178139",
   "metadata": {},
   "source": [
    "# Question 23\n",
    "\n",
    "In a jupyter notebook solve the following question using python. Please upload the notebook to GitHub and provide the link submission box below.\n",
    "\n",
    "Develop a recursive function tough() that takes two nonnegative integer arguments and outputs a pattern as shown below. Hint: The first argument represents the indentation of the pattern, where the second argument -- always a pattern of 2 indicates the number *s in the longest line of *s in the pattern"
   ]
  },
  {
   "cell_type": "code",
   "execution_count": 1,
   "id": "9d80c3f2",
   "metadata": {},
   "outputs": [
    {
     "name": "stdout",
     "output_type": "stream",
     "text": [
      "Enter int 1- 0\n",
      "Enter int 2- 4\n",
      "-----------------------------\n",
      "\n",
      "So the input is ( 0 , 4 )\n",
      "-----------------------------\n",
      "*\n",
      "**\n",
      " *\n",
      "****\n",
      "  *\n",
      "  **\n",
      "   *\n"
     ]
    }
   ],
   "source": [
    "# Here we are creating the tough  recurring function \n",
    "def tough(indent, num):\n",
    "    if(num > 0):\n",
    "        tough(indent, num//2);\n",
    "        print(\" \"*indent + \"*\"*num);\n",
    "        tough(indent + num//2, num//2);   # To print bottom half of the pattern\n",
    "\n",
    "# Taking input from the user\n",
    "input1 = int(input(\"Enter int 1- \"))\n",
    "input2 = int(input(\"Enter int 2- \"))\n",
    "\n",
    "print(\"-----------------------------\")\n",
    "\n",
    "print(\"\\nSo the input is (\",input1,\",\",input2,\")\")\n",
    "print(\"-----------------------------\")\n",
    "\n",
    "if input1 < 0 or input2 < 0 :\n",
    "    print(\"Please enter positive value\")\n",
    "else :\n",
    "    \n",
    "    tough(input1,input2)\n"
   ]
  },
  {
   "cell_type": "code",
   "execution_count": null,
   "id": "5f4ce822",
   "metadata": {},
   "outputs": [],
   "source": []
  }
 ],
 "metadata": {
  "kernelspec": {
   "display_name": "Python 3 (ipykernel)",
   "language": "python",
   "name": "python3"
  },
  "language_info": {
   "codemirror_mode": {
    "name": "ipython",
    "version": 3
   },
   "file_extension": ".py",
   "mimetype": "text/x-python",
   "name": "python",
   "nbconvert_exporter": "python",
   "pygments_lexer": "ipython3",
   "version": "3.10.9"
  }
 },
 "nbformat": 4,
 "nbformat_minor": 5
}
