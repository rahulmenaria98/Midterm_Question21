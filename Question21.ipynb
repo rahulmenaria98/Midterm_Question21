{
 "cells": [
  {
   "cell_type": "markdown",
   "id": "42dda66f",
   "metadata": {},
   "source": [
    "# Question 21\n",
    "\n",
    "In a jupyter notebook solve the following question. Please upload the notebook to GitHub and provide the link submission box below.\n",
    " \n",
    "__int()__: Constructor that takes as input a pair of Point objects that represent the ends points of the line segment\n",
    "Length():: returns the length if the segment \n",
    "Slope() returns the slope of the segment of none if the slope is unbounded \n",
    " \n",
    " >>> p1 = Point(3,4)  \n",
    " >>> p2 = Point()  \n",
    " >>> s = Segment(p1,p2)  \n",
    " >>> s.length()  \n",
    " 5.0  \n",
    " >>> s.slope()  \n",
    " 0.75  "
   ]
  },
  {
   "cell_type": "code",
   "execution_count": 1,
   "id": "cc2b9989",
   "metadata": {},
   "outputs": [
    {
     "name": "stdout",
     "output_type": "stream",
     "text": [
      "Enter input for x1 (press Enter for null input): 3\n",
      "Enter input for x2 (press Enter for null input): 4\n",
      "Enter input for x3 (press Enter for null input): \n",
      "Enter input for x4 (press Enter for null input): \n",
      "The given inputs are - \n",
      "\n",
      "Point 1 -  3 , 4\n",
      "\n",
      "Point 2 -  0 , 0\n",
      "\n",
      "\n",
      "Length of the segment: 5.0\n",
      "Slope of the segment: 0.75\n"
     ]
    }
   ],
   "source": [
    "import math\n",
    "\n",
    "class Point:\n",
    "    def __init__(self, x=0, y=0):\n",
    "        self.x = x\n",
    "        self.y = y\n",
    "\n",
    "class Segment:\n",
    "    def __init__(self, start, end=None):\n",
    "        self.start = start\n",
    "        self.end = end if end is not None else Point()  # Default Point(0, 0) if end is None as stated in question\n",
    "        \n",
    "    def length(self):\n",
    "        # Calculating the length using the distance formula\n",
    "        if s.slope() is not None:\n",
    "            length = math.sqrt((self.end.x - self.start.x)**2 + (self.end.y - self.start.y)**2)\n",
    "            return length\n",
    "        else:\n",
    "            return \"Slope is undefined (vertical line)\"\n",
    "    \n",
    "    def slope(self):\n",
    "        # Calculating the slope\n",
    "        if self.end.x == self.start.x:\n",
    "            return None  # Slope is undefined (vertical line)\n",
    "        else:\n",
    "            return (self.end.x - self.start.x)/(self.end.y - self.start.y)\n",
    "\n",
    "\n",
    "# Writing the main part\n",
    "if __name__ == \"__main__\":\n",
    "    \n",
    "    # Asking user to input the cordinates \n",
    "    \n",
    "    ip1 = int(input(\"Enter input for x1 (press Enter for null input): \").strip() or '0')\n",
    "    ip2 = int(input(\"Enter input for x2 (press Enter for null input): \").strip() or '0')\n",
    "    ip3 = int(input(\"Enter input for x3 (press Enter for null input): \").strip() or '0')\n",
    "    ip4 = int(input(\"Enter input for x4 (press Enter for null input): \").strip() or '0')\n",
    "    \n",
    "    print(\"The given inputs are - \\n\")\n",
    "    print(\"Point 1 - \",ip1,\",\",ip2)\n",
    "    print(\"\\nPoint 2 - \",ip3,\",\",ip4)\n",
    "\n",
    "    \n",
    "    p1 = Point(ip1, ip2)\n",
    "    p2 = Point(ip3,ip4)\n",
    "    \n",
    "    # Creating a Segment object using the two points\n",
    "    \n",
    "    s = Segment(p1, p2)\n",
    "    \n",
    "    # printing the data\n",
    "    print(\"\\n\")\n",
    "    print(\"Length of the segment:\", s.length())\n",
    "    print(\"Slope of the segment:\", s.slope())\n"
   ]
  },
  {
   "cell_type": "code",
   "execution_count": null,
   "id": "664c3732",
   "metadata": {},
   "outputs": [],
   "source": []
  }
 ],
 "metadata": {
  "kernelspec": {
   "display_name": "Python 3 (ipykernel)",
   "language": "python",
   "name": "python3"
  },
  "language_info": {
   "codemirror_mode": {
    "name": "ipython",
    "version": 3
   },
   "file_extension": ".py",
   "mimetype": "text/x-python",
   "name": "python",
   "nbconvert_exporter": "python",
   "pygments_lexer": "ipython3",
   "version": "3.10.9"
  }
 },
 "nbformat": 4,
 "nbformat_minor": 5
}
